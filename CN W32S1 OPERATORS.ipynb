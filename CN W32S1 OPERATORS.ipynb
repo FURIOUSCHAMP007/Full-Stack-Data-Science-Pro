{
 "cells": [
  {
   "cell_type": "code",
   "execution_count": 1,
   "id": "d10bf537-31fd-49c0-a615-1d2f6d884cb3",
   "metadata": {},
   "outputs": [],
   "source": [
    "# HI"
   ]
  },
  {
   "cell_type": "code",
   "execution_count": 6,
   "id": "eb761e7c-52e1-4064-a3a6-43d37418eaff",
   "metadata": {},
   "outputs": [
    {
     "name": "stdin",
     "output_type": "stream",
     "text": [
      " \"hi\"\n"
     ]
    }
   ],
   "source": [
    "x=input()"
   ]
  },
  {
   "cell_type": "code",
   "execution_count": 7,
   "id": "e2ed849b-813a-42e5-8f31-b0ad9269ec23",
   "metadata": {},
   "outputs": [
    {
     "name": "stdin",
     "output_type": "stream",
     "text": [
      " 10\n"
     ]
    }
   ],
   "source": [
    "y=input()"
   ]
  },
  {
   "cell_type": "code",
   "execution_count": 10,
   "id": "0818180f-b4dc-4ead-a427-e6ca4880b9c6",
   "metadata": {},
   "outputs": [
    {
     "name": "stdin",
     "output_type": "stream",
     "text": [
      " enter your name pw\n"
     ]
    }
   ],
   "source": [
    "w=input(\" enter your name\")"
   ]
  },
  {
   "cell_type": "code",
   "execution_count": 11,
   "id": "f7f4eb9f-ad14-492f-ad59-f2c264527454",
   "metadata": {},
   "outputs": [
    {
     "data": {
      "text/plain": [
       "'pw'"
      ]
     },
     "execution_count": 11,
     "metadata": {},
     "output_type": "execute_result"
    }
   ],
   "source": [
    "w"
   ]
  },
  {
   "cell_type": "code",
   "execution_count": 12,
   "id": "a5faac38-e107-4814-a902-30d01caa03c7",
   "metadata": {},
   "outputs": [
    {
     "name": "stdin",
     "output_type": "stream",
     "text": [
      "enter your name  pw\n"
     ]
    }
   ],
   "source": [
    "x=input(\"enter your name \")"
   ]
  },
  {
   "cell_type": "code",
   "execution_count": 13,
   "id": "854cc349-d6ee-4131-82a0-a8c969849be1",
   "metadata": {},
   "outputs": [
    {
     "name": "stdin",
     "output_type": "stream",
     "text": [
      "enter your age 57\n"
     ]
    }
   ],
   "source": [
    "y=input(\"enter your age\")"
   ]
  },
  {
   "cell_type": "code",
   "execution_count": 14,
   "id": "b6a63915-1b85-4cc3-8b36-08dde6f99320",
   "metadata": {},
   "outputs": [
    {
     "name": "stdout",
     "output_type": "stream",
     "text": [
      "40\n"
     ]
    }
   ],
   "source": [
    "x=10\n",
    "y=30\n",
    "print(x+y)"
   ]
  },
  {
   "cell_type": "code",
   "execution_count": 16,
   "id": "b5c1e2ae-eff1-4bb8-9449-0a56f52e8b74",
   "metadata": {},
   "outputs": [
    {
     "name": "stdin",
     "output_type": "stream",
     "text": [
      "enter the 1st no 10\n",
      "enter the 2nd no 20\n"
     ]
    },
    {
     "name": "stdout",
     "output_type": "stream",
     "text": [
      "30\n"
     ]
    }
   ],
   "source": [
    "b = int(input(\"enter the 1st no\"))\n",
    "c = int(input(\"enter the 2nd no\"))\n",
    "print(b+c)"
   ]
  },
  {
   "cell_type": "code",
   "execution_count": 22,
   "id": "a8d01b6a-8a59-4b89-9280-ae00f51fce39",
   "metadata": {},
   "outputs": [
    {
     "name": "stdout",
     "output_type": "stream",
     "text": [
      "hi ok pwskills\n"
     ]
    }
   ],
   "source": [
    "x=\"hi\"\n",
    "y=\"pwskills\"\n",
    "\n",
    "print(f\"{x} ok {y}\")"
   ]
  },
  {
   "cell_type": "code",
   "execution_count": 23,
   "id": "eeafd0f6-c8c9-451d-95a8-fa9f57945881",
   "metadata": {},
   "outputs": [
    {
     "name": "stdout",
     "output_type": "stream",
     "text": [
      "s\n"
     ]
    }
   ],
   "source": [
    "print(\"s\")"
   ]
  },
  {
   "cell_type": "code",
   "execution_count": 24,
   "id": "e380244a-8ee6-4d4f-8e31-e7535465030a",
   "metadata": {},
   "outputs": [
    {
     "name": "stdout",
     "output_type": "stream",
     "text": [
      "pw\n"
     ]
    }
   ],
   "source": [
    "print(\"pw\")"
   ]
  },
  {
   "cell_type": "code",
   "execution_count": 29,
   "id": "aacd170c-f969-48a7-abbd-df8daba138ea",
   "metadata": {},
   "outputs": [
    {
     "name": "stdout",
     "output_type": "stream",
     "text": [
      "pw and skills \n"
     ]
    }
   ],
   "source": [
    "print(\"{0} and {1} \".format(\"pw\",\"skills\"))"
   ]
  },
  {
   "cell_type": "code",
   "execution_count": 30,
   "id": "871f6699-c205-432c-bdea-1fb26fe74fc2",
   "metadata": {},
   "outputs": [
    {
     "name": "stdout",
     "output_type": "stream",
     "text": [
      "skills and pw \n"
     ]
    }
   ],
   "source": [
    "print(\"{1} and {0} \".format(\"pw\",\"skills\"))"
   ]
  },
  {
   "cell_type": "code",
   "execution_count": 32,
   "id": "d127e01b-5c14-434a-a9cc-3208ac176579",
   "metadata": {},
   "outputs": [
    {
     "name": "stdout",
     "output_type": "stream",
     "text": [
      "89074562\n",
      "Hii!!\n",
      "$$Howareyou??\n",
      "10*10 = 100\n",
      "(12 > 10) and True\n",
      "I am here to learn \"python\n"
     ]
    }
   ],
   "source": [
    "print(89074562)\n",
    "print(\"Hii!!\")\n",
    "print(\"$$Howareyou??\")\n",
    "print(\"10*10 =\", 10 * 10)\n",
    "print(\"(12 > 10) and True\")\n",
    "print('I am here to learn \"python')\n"
   ]
  },
  {
   "cell_type": "code",
   "execution_count": 33,
   "id": "934571ad-03e0-493c-b7bb-d4c215bd3686",
   "metadata": {},
   "outputs": [
    {
     "name": "stdout",
     "output_type": "stream",
     "text": [
      "$ \n",
      "$ $ \n",
      "$ $ $ \n",
      "$ $ $ $ \n",
      "$ $ $ $ $ \n"
     ]
    }
   ],
   "source": [
    "n = 5  # Number of rows\n",
    "\n",
    "for i in range(n):\n",
    "    for j in range(i + 1):\n",
    "        print(\"$\", end=\" \")\n",
    "    print()  # Move to the next line after each row\n"
   ]
  },
  {
   "cell_type": "code",
   "execution_count": 34,
   "id": "9447477c-c198-45b5-bdd1-5168ed31f5f2",
   "metadata": {},
   "outputs": [
    {
     "name": "stdin",
     "output_type": "stream",
     "text": [
      "Enter a string:  pw skills\n"
     ]
    },
    {
     "name": "stdout",
     "output_type": "stream",
     "text": [
      "!pw skills!\n"
     ]
    }
   ],
   "source": [
    "\n",
    "# Accept a string as input\n",
    "input_string = input(\"Enter a string: \")\n",
    "\n",
    "# Make a copy of the string\n",
    "copied_string = input_string\n",
    "\n",
    "# Insert '!' before and after the copied string\n",
    "final_string = \"!\" + copied_string + \"!\"\n",
    "\n",
    "# Print the final string\n",
    "print(final_string)\n",
    "\n"
   ]
  },
  {
   "cell_type": "code",
   "execution_count": 35,
   "id": "af9bf652-242c-4ef2-9595-d313a72b9f51",
   "metadata": {},
   "outputs": [
    {
     "name": "stdout",
     "output_type": "stream",
     "text": [
      "40\n"
     ]
    }
   ],
   "source": [
    "x=10\n",
    "y=30\n",
    "print(x+y)"
   ]
  },
  {
   "cell_type": "code",
   "execution_count": 36,
   "id": "ce1c1e00-d3cc-409f-b421-a8a3549ee14e",
   "metadata": {},
   "outputs": [
    {
     "data": {
      "text/plain": [
       "140007345472016"
      ]
     },
     "execution_count": 36,
     "metadata": {},
     "output_type": "execute_result"
    }
   ],
   "source": [
    "id(x)"
   ]
  },
  {
   "cell_type": "code",
   "execution_count": 37,
   "id": "d92f8153-435a-49d5-aa6a-df549359d6b1",
   "metadata": {},
   "outputs": [
    {
     "name": "stdin",
     "output_type": "stream",
     "text": [
      "Enter an integer:  33\n"
     ]
    },
    {
     "name": "stdout",
     "output_type": "stream",
     "text": [
      "1516107427242415\n"
     ]
    }
   ],
   "source": [
    "# Accept an integer as input\n",
    "x = int(input(\"Enter an integer: \"))\n",
    "\n",
    "# Calculate the quotient when 3^35 is divided by x\n",
    "quotient = 3 ** 35 // x\n",
    "\n",
    "# Print the quotient\n",
    "print(quotient)\n"
   ]
  },
  {
   "cell_type": "code",
   "execution_count": 3,
   "id": "61ae9b82-049d-412c-97c4-ee266eb2e1d3",
   "metadata": {},
   "outputs": [
    {
     "name": "stdin",
     "output_type": "stream",
     "text": [
      " 3\n",
      " 4\n",
      " 6\n"
     ]
    },
    {
     "name": "stdout",
     "output_type": "stream",
     "text": [
      "NO\n"
     ]
    }
   ],
   "source": [
    "# Accept three positive integers as input\n",
    "a = int(input())\n",
    "b = int(input())\n",
    "c = int(input())\n",
    "\n",
    "# Check if they form the sides of a right triangle\n",
    "if a**2 + b**2 == c**2 or a**2 + c**2 == b**2 or b**2 + c**2 == a**2:\n",
    "    print(\"YES\")\n",
    "else:\n",
    "    print(\"NO\")\n"
   ]
  },
  {
   "cell_type": "code",
   "execution_count": 4,
   "id": "80afea1c-da8f-4539-846b-de29469e1354",
   "metadata": {},
   "outputs": [
    {
     "name": "stdin",
     "output_type": "stream",
     "text": [
      "Enter an integer between 0 and 23:  11\n"
     ]
    },
    {
     "name": "stdout",
     "output_type": "stream",
     "text": [
      "It is morning.\n"
     ]
    }
   ],
   "source": [
    "# Accept an integer between 0 and 23 from the user\n",
    "hour = int(input(\"Enter an integer between 0 and 23: \"))\n",
    "\n",
    "# Check the range and determine the time of the day\n",
    "if 0 <= hour <= 5:\n",
    "    print(\"It is nighttime.\")\n",
    "elif 6 <= hour <= 11:\n",
    "    print(\"It is morning.\")\n",
    "elif 12 <= hour <= 17:\n",
    "    print(\"It is afternoon.\")\n",
    "elif 18 <= hour <= 23:\n",
    "    print(\"It is evening.\")\n",
    "else:\n",
    "    print(\"INVALID\")\n"
   ]
  },
  {
   "cell_type": "code",
   "execution_count": 5,
   "id": "730f8b4a-fedd-445e-bf32-fd518b65b9a4",
   "metadata": {},
   "outputs": [],
   "source": [
    "a=10"
   ]
  },
  {
   "cell_type": "code",
   "execution_count": 6,
   "id": "ad04c1ce-96f5-4afc-a59b-be877a4d5a61",
   "metadata": {},
   "outputs": [],
   "source": [
    "b=4"
   ]
  },
  {
   "cell_type": "code",
   "execution_count": 7,
   "id": "59741a16-47ab-444a-8248-f449045dc5bd",
   "metadata": {},
   "outputs": [
    {
     "data": {
      "text/plain": [
       "10"
      ]
     },
     "execution_count": 7,
     "metadata": {},
     "output_type": "execute_result"
    }
   ],
   "source": [
    "a"
   ]
  },
  {
   "cell_type": "code",
   "execution_count": 8,
   "id": "fbd400a8-bc5d-4732-ac03-a96e3b74e440",
   "metadata": {},
   "outputs": [
    {
     "data": {
      "text/plain": [
       "4"
      ]
     },
     "execution_count": 8,
     "metadata": {},
     "output_type": "execute_result"
    }
   ],
   "source": [
    "b"
   ]
  },
  {
   "cell_type": "code",
   "execution_count": 9,
   "id": "a5254ffc-c0d7-4d35-aee4-a7e61a52166d",
   "metadata": {},
   "outputs": [
    {
     "data": {
      "text/plain": [
       "'0b100'"
      ]
     },
     "execution_count": 9,
     "metadata": {},
     "output_type": "execute_result"
    }
   ],
   "source": [
    "bin(b)"
   ]
  },
  {
   "cell_type": "code",
   "execution_count": 10,
   "id": "96e9dea7-c935-4609-aad8-9862e0eb1a6d",
   "metadata": {},
   "outputs": [
    {
     "data": {
      "text/plain": [
       "0"
      ]
     },
     "execution_count": 10,
     "metadata": {},
     "output_type": "execute_result"
    }
   ],
   "source": [
    "a & b "
   ]
  },
  {
   "cell_type": "code",
   "execution_count": 11,
   "id": "9cd43357-897f-4228-a708-c7b11a50f3b4",
   "metadata": {},
   "outputs": [
    {
     "data": {
      "text/plain": [
       "14"
      ]
     },
     "execution_count": 11,
     "metadata": {},
     "output_type": "execute_result"
    }
   ],
   "source": [
    "a| b"
   ]
  },
  {
   "cell_type": "code",
   "execution_count": 13,
   "id": "bc45d39a-f091-43e6-8f6e-9af3d9aa8ce1",
   "metadata": {},
   "outputs": [
    {
     "data": {
      "text/plain": [
       "-11"
      ]
     },
     "execution_count": 13,
     "metadata": {},
     "output_type": "execute_result"
    }
   ],
   "source": [
    "~a"
   ]
  },
  {
   "cell_type": "code",
   "execution_count": 14,
   "id": "3f55c9e6-f4d0-44e6-be87-8ff48b17fbee",
   "metadata": {},
   "outputs": [
    {
     "data": {
      "text/plain": [
       "14"
      ]
     },
     "execution_count": 14,
     "metadata": {},
     "output_type": "execute_result"
    }
   ],
   "source": [
    "a ^ b "
   ]
  },
  {
   "cell_type": "code",
   "execution_count": 15,
   "id": "c31260cd-7235-4c28-a562-05296d24058e",
   "metadata": {},
   "outputs": [],
   "source": [
    " a = 10"
   ]
  },
  {
   "cell_type": "code",
   "execution_count": 16,
   "id": "9aa677da-fb97-4804-81bf-1ad67fd0c3e8",
   "metadata": {},
   "outputs": [
    {
     "data": {
      "text/plain": [
       "20"
      ]
     },
     "execution_count": 16,
     "metadata": {},
     "output_type": "execute_result"
    }
   ],
   "source": [
    "a << 1"
   ]
  },
  {
   "cell_type": "code",
   "execution_count": 17,
   "id": "18b5cc1a-1583-46d5-9bd1-6f53308cb3c8",
   "metadata": {},
   "outputs": [
    {
     "data": {
      "text/plain": [
       "5"
      ]
     },
     "execution_count": 17,
     "metadata": {},
     "output_type": "execute_result"
    }
   ],
   "source": [
    "a >> 1"
   ]
  },
  {
   "cell_type": "code",
   "execution_count": 23,
   "id": "43592a91-7946-4f00-b5b3-04c68c7f5429",
   "metadata": {},
   "outputs": [],
   "source": [
    "b = 15"
   ]
  },
  {
   "cell_type": "code",
   "execution_count": 24,
   "id": "6e516b16-f68b-4abc-b2fc-a279ce396f56",
   "metadata": {},
   "outputs": [
    {
     "data": {
      "text/plain": [
       "15"
      ]
     },
     "execution_count": 24,
     "metadata": {},
     "output_type": "execute_result"
    }
   ],
   "source": [
    "b"
   ]
  },
  {
   "cell_type": "code",
   "execution_count": 36,
   "id": "47710a5e-15c7-42a0-a4b5-c44307b79a06",
   "metadata": {},
   "outputs": [
    {
     "name": "stdout",
     "output_type": "stream",
     "text": [
      "10\n",
      "20\n",
      "10\n",
      "100\n",
      "102400\n"
     ]
    }
   ],
   "source": [
    "# Examples of Assignment Operators\n",
    "a = 10\n",
    "\n",
    "# Assign value\n",
    "b = a\n",
    "print(b)\n",
    "\n",
    "# Add and assign value\n",
    "b += a\n",
    "print(b)\n",
    "\n",
    "# Subtract and assign value\n",
    "b -= a\n",
    "print(b)\n",
    "\n",
    "# multiply and assign\n",
    "b *= a\n",
    "print(b)\n",
    "\n",
    "# bitwise lishift operator\n",
    "b <<= a\n",
    "print(b)\n"
   ]
  },
  {
   "cell_type": "code",
   "execution_count": 37,
   "id": "d619f67a-a82b-49d0-982b-a6ebd3b8c0cf",
   "metadata": {},
   "outputs": [
    {
     "name": "stdout",
     "output_type": "stream",
     "text": [
      "True\n",
      "True\n"
     ]
    }
   ],
   "source": [
    "a = 10\n",
    "b = 20\n",
    "c = a\n",
    "\n",
    "print(a is not b)\n",
    "print(a is c)\n",
    "\n"
   ]
  },
  {
   "cell_type": "code",
   "execution_count": null,
   "id": "765c7085-5fd0-4b00-a422-8d51b4be220a",
   "metadata": {},
   "outputs": [],
   "source": []
  }
 ],
 "metadata": {
  "kernelspec": {
   "display_name": "Python 3 (ipykernel)",
   "language": "python",
   "name": "python3"
  },
  "language_info": {
   "codemirror_mode": {
    "name": "ipython",
    "version": 3
   },
   "file_extension": ".py",
   "mimetype": "text/x-python",
   "name": "python",
   "nbconvert_exporter": "python",
   "pygments_lexer": "ipython3",
   "version": "3.10.8"
  }
 },
 "nbformat": 4,
 "nbformat_minor": 5
}
