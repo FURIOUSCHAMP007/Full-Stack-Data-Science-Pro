{
 "cells": [
  {
   "cell_type": "code",
   "execution_count": 2,
   "id": "eff100e4-768b-4b47-8e5c-ef5ac45c3d79",
   "metadata": {},
   "outputs": [
    {
     "name": "stdout",
     "output_type": "stream",
     "text": [
      "After swapping:\n",
      "x = 10\n",
      "y = 5\n"
     ]
    }
   ],
   "source": [
    "# Swapping Variables\n",
    "x = 5\n",
    "y = 10\n",
    "\n",
    "x = x + y\n",
    "y = x - y\n",
    "x = x - y\n",
    "\n",
    "print(\"After swapping:\")\n",
    "print(\"x =\", x)\n",
    "print(\"y =\", y)"
   ]
  },
  {
   "cell_type": "code",
   "execution_count": 1,
   "id": "bc412f11-61d6-460e-afb5-ae808c603200",
   "metadata": {},
   "outputs": [
    {
     "name": "stdin",
     "output_type": "stream",
     "text": [
      "Enter the length of the rectangle:  100\n",
      "Enter the width of the rectangle:  120\n"
     ]
    },
    {
     "name": "stdout",
     "output_type": "stream",
     "text": [
      "The area of the rectangle is: 12000.0\n"
     ]
    }
   ],
   "source": [
    "# Get user input for length and width\n",
    "length = float(input(\"Enter the length of the rectangle: \"))\n",
    "width = float(input(\"Enter the width of the rectangle: \"))\n",
    "\n",
    "# Calculate the area\n",
    "area = length * width\n",
    "\n",
    "# Display the area\n",
    "print(\"The area of the rectangle is:\", area)"
   ]
  },
  {
   "cell_type": "code",
   "execution_count": 1,
   "id": "15ad867a-840f-42a1-bf2d-3b9bdb42dcfb",
   "metadata": {},
   "outputs": [
    {
     "name": "stdin",
     "output_type": "stream",
     "text": [
      "Enter temperature in Celsius:  100\n"
     ]
    },
    {
     "name": "stdout",
     "output_type": "stream",
     "text": [
      "Temperature in Fahrenheit: 212.0\n"
     ]
    }
   ],
   "source": [
    "# Get user input for temperature in Celsius\n",
    "celsius = float(input(\"Enter temperature in Celsius: \"))\n",
    "\n",
    "# Convert Celsius to Fahrenheit\n",
    "fahrenheit = (celsius * 9/5) + 32\n",
    "\n",
    "# Display the converted temperature in Fahrenheit\n",
    "print(\"Temperature in Fahrenheit:\", fahrenheit)\n"
   ]
  },
  {
   "cell_type": "code",
   "execution_count": 3,
   "id": "dc5003db-b47f-4495-8fc2-7966408d1d23",
   "metadata": {},
   "outputs": [
    {
     "name": "stdin",
     "output_type": "stream",
     "text": [
      "Enter a string:  PWSKILLS\n"
     ]
    },
    {
     "name": "stdout",
     "output_type": "stream",
     "text": [
      "The length of the string is: 8\n"
     ]
    }
   ],
   "source": [
    "# Get user input for a string\n",
    "input_string = input(\"Enter a string: \")\n",
    "\n",
    "# Calculate and display the length of the string\n",
    "string_length = len(input_string)\n",
    "print(\"The length of the string is:\", string_length)\n"
   ]
  },
  {
   "cell_type": "code",
   "execution_count": 4,
   "id": "53c20d55-4a49-4ff1-84c1-3d5121bf6767",
   "metadata": {},
   "outputs": [
    {
     "name": "stdin",
     "output_type": "stream",
     "text": [
      "Enter a sentence:  I LOVE PW \n"
     ]
    },
    {
     "name": "stdout",
     "output_type": "stream",
     "text": [
      "The number of vowels in the sentence is: 3\n"
     ]
    }
   ],
   "source": [
    "# Get user input for a sentence\n",
    "sentence = input(\"Enter a sentence: \")\n",
    "\n",
    "# Initialize a variable to store the vowel count\n",
    "vowel_count = 0\n",
    "\n",
    "# Define the set of vowels\n",
    "vowels = \"aeiouAEIOU\"\n",
    "\n",
    "# Iterate through each character in the sentence\n",
    "for char in sentence:\n",
    "    if char in vowels:\n",
    "        vowel_count += 1\n",
    "\n",
    "# Display the vowel count\n",
    "print(\"The number of vowels in the sentence is:\", vowel_count)\n"
   ]
  },
  {
   "cell_type": "code",
   "execution_count": 5,
   "id": "570e8e2e-44de-4de8-92e3-6fae4ada8304",
   "metadata": {},
   "outputs": [
    {
     "name": "stdin",
     "output_type": "stream",
     "text": [
      "Enter a string:  PW LOVES ME \n"
     ]
    },
    {
     "name": "stdout",
     "output_type": "stream",
     "text": [
      "Reversed string:  EM SEVOL WP\n"
     ]
    }
   ],
   "source": [
    "# Get user input for a string\n",
    "input_string = input(\"Enter a string: \")\n",
    "\n",
    "# Reverse the string using string slicing\n",
    "reversed_string = input_string[::-1]\n",
    "\n",
    "# Display the reversed string\n",
    "print(\"Reversed string:\", reversed_string)\n"
   ]
  },
  {
   "cell_type": "code",
   "execution_count": 6,
   "id": "fa812e13-7748-48ca-bf4c-05236db0dbea",
   "metadata": {},
   "outputs": [
    {
     "name": "stdin",
     "output_type": "stream",
     "text": [
      "Enter a string:  SKILLS\n"
     ]
    },
    {
     "name": "stdout",
     "output_type": "stream",
     "text": [
      "The entered string is not a palindrome.\n"
     ]
    }
   ],
   "source": [
    "# Get user input for a string\n",
    "input_string = input(\"Enter a string: \")\n",
    "\n",
    "# Remove spaces and convert to lowercase for case-insensitive comparison\n",
    "cleaned_string = input_string.replace(\" \", \"\").lower()\n",
    "\n",
    "# Reverse the string using string slicing\n",
    "reversed_string = cleaned_string[::-1]\n",
    "\n",
    "# Check if the original and reversed strings are the same\n",
    "if cleaned_string == reversed_string:\n",
    "    print(\"The entered string is a palindrome.\")\n",
    "else:\n",
    "    print(\"The entered string is not a palindrome.\")\n"
   ]
  },
  {
   "cell_type": "code",
   "execution_count": 7,
   "id": "fb7fb62d-fab6-4446-a6fd-5912fe172325",
   "metadata": {},
   "outputs": [
    {
     "name": "stdin",
     "output_type": "stream",
     "text": [
      "Enter a string:  I LOVE PW SKILLS\n"
     ]
    },
    {
     "name": "stdout",
     "output_type": "stream",
     "text": [
      "Modified string without spaces: ILOVEPWSKILLS\n"
     ]
    }
   ],
   "source": [
    "# Get user input for a string\n",
    "input_string = input(\"Enter a string: \")\n",
    "\n",
    "# Remove spaces from the string\n",
    "modified_string = input_string.replace(\" \", \"\")\n",
    "\n",
    "# Display the modified string without spaces\n",
    "print(\"Modified string without spaces:\", modified_string)\n"
   ]
  },
  {
   "cell_type": "code",
   "execution_count": null,
   "id": "7b35a99a-df9a-4d49-a2d5-45ea128ca86d",
   "metadata": {},
   "outputs": [],
   "source": []
  }
 ],
 "metadata": {
  "kernelspec": {
   "display_name": "Python 3 (ipykernel)",
   "language": "python",
   "name": "python3"
  },
  "language_info": {
   "codemirror_mode": {
    "name": "ipython",
    "version": 3
   },
   "file_extension": ".py",
   "mimetype": "text/x-python",
   "name": "python",
   "nbconvert_exporter": "python",
   "pygments_lexer": "ipython3",
   "version": "3.10.8"
  }
 },
 "nbformat": 4,
 "nbformat_minor": 5
}
