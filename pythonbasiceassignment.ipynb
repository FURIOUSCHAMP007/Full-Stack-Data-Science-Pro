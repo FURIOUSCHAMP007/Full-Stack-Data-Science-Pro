{
 "cells": [
  {
   "cell_type": "code",
   "metadata": {},
   "source": [
    "# Basic variable based questions\n",
    "\n",
    "# 1. Swapping Variables\n",
    "x = 5\n",
    "y = 10\n",
    "\n",
    "x = x + y\n",
    "y = x - y\n",
    "x = x - y\n",
    "\n",
    "print(\"After swapping: x =\", x, \", y =", y, \")"
   ],
   "execution_count": null,
   "outputs": []
  },
  {
   "cell_type": "code",
   "metadata": {},
   "source": [
    "# 2. Calculate Area of Rectangle\n",
    "length = float(input(\"Enter length: \"))\n",
    "width = float(input(\"Enter width: \"))\n",
    "\n",
    "area = length * width\n",
    "print(\"Area of rectangle:\", area)"
   ],
   "execution_count": null,
   "outputs": []
  },
  {
   "cell_type": "code",
   "metadata": {},
   "source": [
    "# 3. Convert Celsius to Fahrenheit\n",
    "celsius = float(input(\"Enter temperature in Celsius: \"))\n",
    "fahrenheit = (celsius * 9/5) + 32\n",
    "print(\"Temperature in Fahrenheit:\", fahrenheit)"
   ],
   "execution_count": null,
   "outputs": []
  },
  {
   "cell_type": "code",
   "metadata": {},
   "source": [
    "# String based questions\n",
    "\n",
    "# 1. Length of a String\n",
    "input_string = input(\"Enter a string: \")\n",
    "length = len(input_string)\n",
    "print(\"Length of the string:\", length)"
   ],
   "execution_count": null,
   "outputs": []
  },
  {
   "cell_type": "code",
   "metadata": {},
   "source": [
    "# 2. Count Vowels in a String\n",
    "input_sentence = input(\"Enter a sentence: \")\n",
    "vowels = \"AEIOUaeiou\"\n",
    "vowel_count = 0\n",
    "\n",
    "for char in input_sentence:\n",
    "    if char in vowels:\n",
    "        vowel_count += 1\n",
    "\n",
    "print(\"Number of vowels:\", vowel_count)"
   ],
   "execution_count": null,
   "outputs": []
  },
  {
   "cell_type": "code",
   "metadata": {},
   "source": [
    "# 3. Reverse a String\n",
    "input_string = input(\"Enter a string: \")\n",
    "reversed_string = input_string[::-1]\n",
    "print(\"Reversed string:\", reversed_string)"
   ],
   "execution_count": null,
   "outputs": []
  },
  {
   "cell_type": "code",
   "metadata": {},
   "source": [
    "# 4. Check Palindrome\n",
    "input_string = input(\"Enter a string: \")\n",
    "if input_string == input_string[::-1]:\n",
    "    print(\"Palindrome\")\n",
    "else:\n",
    "    print(\"Not a palindrome\")"
   ],
   "execution_count": null,
   "outputs": []
  },
  {
   "cell_type": "code",
   "metadata": {},
   "source": [
    "# 5. Remove Spaces from String\n",
    "input_string = input(\"Enter a string: \")\n",
    "no_spaces_string = input_string.replace(\" \", \"\")\n",
    "print(\"Modified string:\", no_spaces_string)"
   ],
   "execution_count": null,
   "outputs": []
  }
 ],
 "metadata": {
  "kernelspec": {
   "display_name": "Python 3",
   "language": "python",
   "name": "python3"
  },
  "language_info": {
   "codemirror_mode": {
    "name": "ipython",
    "version": 3
   },
   "file_extension": ".py",
   "mimetype": "text/x-python",
   "name": "python",
   "nbconvert_exporter": "python",
   "pygments_lexer": "ipython3",
   "version": "3.8.10"
  }
 },
 "nbformat": 4,
 "nbformat_minor": 5
}
