{
  "nbformat": 4,
  "nbformat_minor": 0,
  "metadata": {
    "colab": {
      "provenance": []
    },
    "kernelspec": {
      "name": "python3",
      "display_name": "Python 3"
    },
    "language_info": {
      "name": "python"
    }
  },
  "cells": [
    {
      "cell_type": "markdown",
      "source": [
        "Problem 1: Bank Account\n",
        "\n"
      ],
      "metadata": {
        "id": "E45VS1xEKw4C"
      }
    },
    {
      "cell_type": "code",
      "execution_count": 1,
      "metadata": {
        "colab": {
          "base_uri": "https://localhost:8080/"
        },
        "id": "FTk-kZVFKjqd",
        "outputId": "f5af1505-5d10-48e9-cdf8-1d4d89892ec1"
      },
      "outputs": [
        {
          "output_type": "stream",
          "name": "stdout",
          "text": [
            "Deposited $100. New balance: $100\n",
            "Withdrew $50. New balance: $50\n"
          ]
        }
      ],
      "source": [
        "class BankAccount:\n",
        "    def __init__(self, account_number, account_holder, balance=0):\n",
        "        self.account_number = account_number\n",
        "        self.account_holder = account_holder\n",
        "        self.balance = balance\n",
        "\n",
        "    def deposit(self, amount):\n",
        "        if amount > 0:\n",
        "            self.balance += amount\n",
        "            return f\"Deposited ${amount}. New balance: ${self.balance}\"\n",
        "        else:\n",
        "            return \"Invalid deposit amount.\"\n",
        "\n",
        "    def withdraw(self, amount):\n",
        "        if 0 < amount <= self.balance:\n",
        "            self.balance -= amount\n",
        "            return f\"Withdrew ${amount}. New balance: ${self.balance}\"\n",
        "        else:\n",
        "            return \"Insufficient funds or invalid withdrawal amount.\"\n",
        "\n",
        "# Usage\n",
        "account = BankAccount(\"12345\", \"Alice\")\n",
        "print(account.deposit(100))  # Deposited $100. New balance: $100\n",
        "print(account.withdraw(50))  # Withdrew $50. New balance: $50\n"
      ]
    },
    {
      "cell_type": "markdown",
      "source": [
        "Problem 2: Employee Management\n",
        "\n"
      ],
      "metadata": {
        "id": "BRCB4lP7K1NE"
      }
    },
    {
      "cell_type": "code",
      "source": [
        "class Employee:\n",
        "    def __init__(self, emp_id, name, salary):\n",
        "        self.emp_id = emp_id\n",
        "        self.name = name\n",
        "        self.salary = salary\n",
        "\n",
        "    def calculate_bonus(self, bonus_percentage):\n",
        "        return self.salary * (bonus_percentage / 100)\n",
        "\n",
        "    def display_details(self):\n",
        "        return f\"Employee ID: {self.emp_id}, Name: {self.name}, Salary: ${self.salary}\"\n",
        "\n",
        "# Usage\n",
        "employee = Employee(\"E001\", \"John\", 50000)\n",
        "print(employee.calculate_bonus(10))  # 5000.0\n",
        "print(employee.display_details())  # Employee ID: E001, Name: John, Salary: $50000\n"
      ],
      "metadata": {
        "colab": {
          "base_uri": "https://localhost:8080/"
        },
        "id": "8xWwojtAK3LK",
        "outputId": "f0b4d0e0-3aa7-45af-905f-ea1b1b24ffab"
      },
      "execution_count": 3,
      "outputs": [
        {
          "output_type": "stream",
          "name": "stdout",
          "text": [
            "5000.0\n",
            "Employee ID: E001, Name: John, Salary: $50000\n"
          ]
        }
      ]
    },
    {
      "cell_type": "markdown",
      "source": [
        "Problem 3: Vehicle Rental\n",
        "\n"
      ],
      "metadata": {
        "id": "HcTYquaqK5it"
      }
    },
    {
      "cell_type": "code",
      "source": [
        "class VehicleRental:\n",
        "    def __init__(self):\n",
        "        self.available_vehicles = set()\n",
        "\n",
        "    def rent_vehicle(self, vehicle):\n",
        "        if vehicle not in self.available_vehicles:\n",
        "            return \"Vehicle not available for rent.\"\n",
        "        else:\n",
        "            self.available_vehicles.remove(vehicle)\n",
        "            return f\"Rented {vehicle}\"\n",
        "\n",
        "    def return_vehicle(self, vehicle):\n",
        "        self.available_vehicles.add(vehicle)\n",
        "        return f\"Returned {vehicle}\"\n",
        "\n",
        "    def display_available_vehicles(self):\n",
        "        return self.available_vehicles\n",
        "\n",
        "# Usage\n",
        "rental_system = VehicleRental()\n",
        "rental_system.available_vehicles = {\"Car\", \"Bike\", \"Scooter\"}\n",
        "print(rental_system.rent_vehicle(\"Car\"))  # Rented Car\n",
        "print(rental_system.return_vehicle(\"Car\"))  # Returned Car\n",
        "print(rental_system.display_available_vehicles())  # {'Bike', 'Scooter'}\n"
      ],
      "metadata": {
        "colab": {
          "base_uri": "https://localhost:8080/"
        },
        "id": "3-Yju2-GK3R5",
        "outputId": "62c4bd2f-cc7b-4594-e41b-5589a18fce3f"
      },
      "execution_count": 2,
      "outputs": [
        {
          "output_type": "stream",
          "name": "stdout",
          "text": [
            "Rented Car\n",
            "Returned Car\n",
            "{'Scooter', 'Car', 'Bike'}\n"
          ]
        }
      ]
    },
    {
      "cell_type": "markdown",
      "source": [
        "Problem 4: Library Catalog\n",
        "\n"
      ],
      "metadata": {
        "id": "n-TFB6ETLAqo"
      }
    },
    {
      "cell_type": "code",
      "source": [
        "class Book:\n",
        "    def __init__(self, title, author):\n",
        "        self.title = title\n",
        "        self.author = author\n",
        "\n",
        "    def __str__(self):\n",
        "        return f\"{self.title} by {self.author}\"\n",
        "\n",
        "class Library:\n",
        "    def __init__(self):\n",
        "        self.books = []\n",
        "\n",
        "    def add_book(self, book):\n",
        "        self.books.append(book)\n",
        "        return f\"Added book: {book}\"\n",
        "\n",
        "    def borrow_book(self, title):\n",
        "        for book in self.books:\n",
        "            if book.title == title:\n",
        "                self.books.remove(book)\n",
        "                return f\"Borrowed book: {book}\"\n",
        "        return f\"Book not found: {title}\"\n",
        "\n",
        "    def display_available_books(self):\n",
        "        return self.books\n",
        "\n",
        "# Usage\n",
        "library = Library()\n",
        "book1 = Book(\"Harry Potter\", \"J.K. Rowling\")\n",
        "book2 = Book(\"The Great Gatsby\", \"F. Scott Fitzgerald\")\n",
        "library.add_book(book1)\n",
        "library.add_book(book2)\n",
        "print(library.borrow_book(\"Harry Potter\"))  # Borrowed book: Harry Potter by J.K. Rowling\n",
        "print(library.display_available_books())  # [The Great Gatsby by F. Scott Fitzgerald]\n"
      ],
      "metadata": {
        "colab": {
          "base_uri": "https://localhost:8080/"
        },
        "id": "HZLKiZkZLFQi",
        "outputId": "2ef7a266-5fce-464b-da3a-f680a467d8ab"
      },
      "execution_count": 6,
      "outputs": [
        {
          "output_type": "stream",
          "name": "stdout",
          "text": [
            "Borrowed book: Harry Potter by J.K. Rowling\n",
            "[<__main__.Book object at 0x7e48937752d0>]\n"
          ]
        }
      ]
    },
    {
      "cell_type": "markdown",
      "source": [
        "Problem 5: Product Inventory\n",
        "\n"
      ],
      "metadata": {
        "id": "5CLT-NdTLGqZ"
      }
    },
    {
      "cell_type": "code",
      "source": [
        "class Product:\n",
        "    def __init__(self, product_id, name, price, quantity):\n",
        "        self.product_id = product_id\n",
        "        self.name = name\n",
        "        self.price = price\n",
        "        self.quantity = quantity\n",
        "\n",
        "    def __str__(self):\n",
        "        return f\"Product ID: {self.product_id}, Name: {self.name}, Price: ${self.price}, Quantity: {self.quantity}\"\n",
        "\n",
        "\n",
        "class Inventory:\n",
        "    def __init__(self):\n",
        "        self.products = []\n",
        "\n",
        "    def add_product(self, product):\n",
        "        self.products.append(product)\n",
        "\n",
        "    def update_quantity(self, product_id, new_quantity):\n",
        "        for product in self.products:\n",
        "            if product.product_id == product_id:\n",
        "                product.quantity = new_quantity\n",
        "                return f\"Quantity updated for product ID {product_id}\"\n",
        "\n",
        "        return f\"Product ID {product_id} not found in the inventory\"\n",
        "\n",
        "    def display_available_products(self):\n",
        "        return [product for product in self.products if product.quantity > 0]\n",
        "\n",
        "\n",
        "# Example usage\n",
        "inventory = Inventory()\n",
        "product1 = Product(1, \"Laptop\", 1000, 5)\n",
        "product2 = Product(2, \"Phone\", 500, 10)\n",
        "inventory.add_product(product1)\n",
        "inventory.add_product(product2)\n",
        "inventory.update_quantity(1, 8)\n",
        "\n",
        "# Display available products\n",
        "available_products = inventory.display_available_products()\n",
        "for product in available_products:\n",
        "    print(product)\n",
        "\n"
      ],
      "metadata": {
        "colab": {
          "base_uri": "https://localhost:8080/"
        },
        "id": "dCdQ1uxALIvA",
        "outputId": "e31e8695-4ef3-4a53-bd93-f1400a050ec1"
      },
      "execution_count": 14,
      "outputs": [
        {
          "output_type": "stream",
          "name": "stdout",
          "text": [
            "Product ID: 1, Name: Laptop, Price: $1000, Quantity: 8\n",
            "Product ID: 2, Name: Phone, Price: $500, Quantity: 10\n"
          ]
        }
      ]
    },
    {
      "cell_type": "markdown",
      "source": [
        "Problem 6: Shape Calculation\n",
        "\n"
      ],
      "metadata": {
        "id": "gim1KRa7Lhf3"
      }
    },
    {
      "cell_type": "code",
      "source": [
        "class Shape:\n",
        "    def __init__(self, length, width, height):\n",
        "        self.length = length\n",
        "        self.width = width\n",
        "        self.height = height\n",
        "\n",
        "class Rectangle(Shape):\n",
        "    def calculate_area(self):\n",
        "        return self.length * self.width\n",
        "\n",
        "    def calculate_perimeter(self):\n",
        "        return 2 * (self.length + self.width)\n",
        "\n",
        "class Triangle(Shape):\n",
        "    def calculate_area(self):\n",
        "        return 0.5 * self.base * self.height\n",
        "\n",
        "    def calculate_perimeter(self):\n",
        "        return self.length + self.width + self.height\n",
        "\n",
        "# Usage\n",
        "rectangle = Rectangle(5, 4, 0)\n",
        "triangle = Triangle(3, 4, 5)\n",
        "print(rectangle.calculate_area())  # 20\n",
        "print(triangle.calculate_perimeter())  # 12\n"
      ],
      "metadata": {
        "colab": {
          "base_uri": "https://localhost:8080/"
        },
        "id": "Z0HnXEDrLiD3",
        "outputId": "5b20c0a6-2267-49fc-f95d-58592c8112bc"
      },
      "execution_count": 4,
      "outputs": [
        {
          "output_type": "stream",
          "name": "stdout",
          "text": [
            "20\n",
            "12\n"
          ]
        }
      ]
    },
    {
      "cell_type": "markdown",
      "source": [
        "Problem 7: Student Management\n",
        "\n",
        "\n",
        "\n",
        "\n"
      ],
      "metadata": {
        "id": "UYhgVziELun6"
      }
    },
    {
      "cell_type": "code",
      "source": [
        "class Student:\n",
        "    def __init__(self, student_id, name, grades):\n",
        "        self.student_id = student_id\n",
        "        self.name = name\n",
        "        self.grades = grades\n",
        "\n",
        "    def calculate_average_grade(self):\n",
        "        return sum(self.grades) / len(self.grades)\n",
        "\n",
        "    def display_details(self):\n",
        "        return f\"Student ID: {self.student_id}, Name: {self.name}, Average Grade: {self.calculate_average_grade()}\"\n",
        "\n",
        "# Usage\n",
        "student = Student(\"S123\", \"Alice\", [85, 90, 78, 92])\n",
        "print(student.calculate_average_grade())  # 86.25\n",
        "print(student.display_details())  # Student ID: S123, Name: Alice, Average Grade: 86.25\n"
      ],
      "metadata": {
        "colab": {
          "base_uri": "https://localhost:8080/"
        },
        "id": "xYC2FMrtLxTq",
        "outputId": "08f54206-f120-45e5-94d7-9965aa60bca4"
      },
      "execution_count": 8,
      "outputs": [
        {
          "output_type": "stream",
          "name": "stdout",
          "text": [
            "86.25\n",
            "Student ID: S123, Name: Alice, Average Grade: 86.25\n"
          ]
        }
      ]
    },
    {
      "cell_type": "markdown",
      "source": [
        "Problem 8: Email Management\n",
        "\n"
      ],
      "metadata": {
        "id": "xK2Cl832Lzie"
      }
    },
    {
      "cell_type": "code",
      "source": [
        "class Email:\n",
        "    def __init__(self, sender, recipient, subject, message):\n",
        "        self.sender = sender\n",
        "        self.recipient = recipient\n",
        "        self.subject = subject\n",
        "        self.message = message\n",
        "\n",
        "    def send_email(self):\n",
        "        return f\"Email sent from {self.sender} to {self.recipient} with subject: {self.subject}\"\n",
        "\n",
        "    def display_email_details(self):\n",
        "        return f\"From: {self.sender}\\nTo: {self.recipient}\\nSubject: {self.subject}\\n{self.message}\"\n",
        "\n",
        "# Usage\n",
        "email = Email(\"alice@example.com\", \"bob@example.com\", \"Hello\", \"This is a test email.\")\n",
        "print(email.send_email())  # Email sent from alice@example.com to bob@example.com with subject: Hello\n",
        "print(email.display_email_details())\n"
      ],
      "metadata": {
        "colab": {
          "base_uri": "https://localhost:8080/"
        },
        "id": "kivQJpKqL1ij",
        "outputId": "175e9d9b-d5e7-4fad-81ca-0adf557f13d8"
      },
      "execution_count": 9,
      "outputs": [
        {
          "output_type": "stream",
          "name": "stdout",
          "text": [
            "Email sent from alice@example.com to bob@example.com with subject: Hello\n",
            "From: alice@example.com\n",
            "To: bob@example.com\n",
            "Subject: Hello\n",
            "This is a test email.\n"
          ]
        }
      ]
    },
    {
      "cell_type": "markdown",
      "source": [
        "Problem 9: Social Media Profile\n",
        "\n"
      ],
      "metadata": {
        "id": "25YtPQ2uL5kj"
      }
    },
    {
      "cell_type": "code",
      "source": [
        "class SocialMediaProfile:\n",
        "    def __init__(self, username):\n",
        "        self.username = username\n",
        "        self.posts = []\n",
        "\n",
        "    def add_post(self, post):\n",
        "        self.posts.append(post)\n",
        "        return f\"Added a new post: {post}\"\n",
        "\n",
        "    def display_posts(self):\n",
        "        return self.posts\n",
        "\n",
        "    def search_posts(self, keyword):\n",
        "        return [post for post in self.posts if keyword in post]\n",
        "\n",
        "# Usage\n",
        "profile = SocialMediaProfile(\"alice123\")\n",
        "profile.add_post(\"Today's weather is great!\")\n",
        "profile.add_post(\"Enjoying a day out.\")\n",
        "print(profile.search_posts(\"weather\"))  # [\"Today's weather is great!\"]\n"
      ],
      "metadata": {
        "colab": {
          "base_uri": "https://localhost:8080/"
        },
        "id": "aW0xkUXEL92e",
        "outputId": "7128f4da-c7f6-436c-bdf3-ef6ed76abb1a"
      },
      "execution_count": 10,
      "outputs": [
        {
          "output_type": "stream",
          "name": "stdout",
          "text": [
            "[\"Today's weather is great!\"]\n"
          ]
        }
      ]
    },
    {
      "cell_type": "markdown",
      "source": [
        "Problem 10: ToDo List\n",
        "\n"
      ],
      "metadata": {
        "id": "BqMCZfShMAGE"
      }
    },
    {
      "cell_type": "code",
      "source": [
        "class ToDoList:\n",
        "    def __init__(self):\n",
        "        self.tasks = []\n",
        "\n",
        "    def add_task(self, task):\n",
        "        self.tasks.append(task)\n",
        "        return f\"Added task: {task}\"\n",
        "\n",
        "    def mark_completed(self, task):\n",
        "        if task in self.tasks:\n",
        "            self.tasks.remove(task)\n",
        "            return f\"Marked task as completed: {task}\"\n",
        "        else:\n",
        "            return f\"Task not found: {task}\"\n",
        "\n",
        "    def display_pending_tasks(self):\n",
        "        return self.tasks\n",
        "\n",
        "# Usage\n",
        "todo_list = ToDoList()\n",
        "todo_list.add_task(\"Buy groceries\")\n",
        "todo_list.add_task(\"Finish work project\")\n",
        "todo_list.mark_completed(\"Buy groceries\")\n",
        "print(todo_list.display_pending_tasks())  # [\"Finish work project\"]\n"
      ],
      "metadata": {
        "colab": {
          "base_uri": "https://localhost:8080/"
        },
        "id": "BwQZFryYMAeW",
        "outputId": "cd024c1f-6d92-4998-f8a0-774fa21efc86"
      },
      "execution_count": 11,
      "outputs": [
        {
          "output_type": "stream",
          "name": "stdout",
          "text": [
            "['Finish work project']\n"
          ]
        }
      ]
    }
  ]
}