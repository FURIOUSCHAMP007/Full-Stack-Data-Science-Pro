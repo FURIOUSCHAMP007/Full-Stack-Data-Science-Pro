{
 "cells": [
  {
   "cell_type": "code",
   "execution_count": 1,
   "id": "03714e1e-de42-4fed-9eae-724681366361",
   "metadata": {},
   "outputs": [
    {
     "data": {
      "text/plain": [
       "3"
      ]
     },
     "execution_count": 1,
     "metadata": {},
     "output_type": "execute_result"
    }
   ],
   "source": [
    "1+2"
   ]
  },
  {
   "cell_type": "code",
   "execution_count": 3,
   "id": "8ca6d435-f221-4fed-82b2-3756baeacd72",
   "metadata": {},
   "outputs": [],
   "source": [
    "a=10"
   ]
  },
  {
   "cell_type": "code",
   "execution_count": 4,
   "id": "5d8a3c09-8212-47f4-82f1-cedf1cb9565b",
   "metadata": {},
   "outputs": [
    {
     "data": {
      "text/plain": [
       "10"
      ]
     },
     "execution_count": 4,
     "metadata": {},
     "output_type": "execute_result"
    }
   ],
   "source": [
    "a"
   ]
  },
  {
   "cell_type": "code",
   "execution_count": 5,
   "id": "5db880a8-098f-490e-9d94-6915fb12f46d",
   "metadata": {},
   "outputs": [],
   "source": [
    "ravi=123456"
   ]
  },
  {
   "cell_type": "code",
   "execution_count": 6,
   "id": "1d04f3de-fa27-4a5e-9790-c6d14b9a0350",
   "metadata": {},
   "outputs": [
    {
     "data": {
      "text/plain": [
       "123456"
      ]
     },
     "execution_count": 6,
     "metadata": {},
     "output_type": "execute_result"
    }
   ],
   "source": [
    "ravi"
   ]
  },
  {
   "cell_type": "code",
   "execution_count": 9,
   "id": "89d9684d-c569-4c6e-abef-1248f0e54395",
   "metadata": {},
   "outputs": [],
   "source": [
    "a1 = 32\n",
    "a2 = 32"
   ]
  },
  {
   "cell_type": "code",
   "execution_count": 10,
   "id": "2e3db523-ca37-4212-b60c-31c949ca37b3",
   "metadata": {},
   "outputs": [
    {
     "data": {
      "text/plain": [
       "64"
      ]
     },
     "execution_count": 10,
     "metadata": {},
     "output_type": "execute_result"
    }
   ],
   "source": [
    "a1 + a2 "
   ]
  },
  {
   "cell_type": "code",
   "execution_count": 11,
   "id": "df2c32eb-a639-40de-b766-3ede7c762876",
   "metadata": {},
   "outputs": [
    {
     "data": {
      "text/plain": [
       "1.40625"
      ]
     },
     "execution_count": 11,
     "metadata": {},
     "output_type": "execute_result"
    }
   ],
   "source": [
    "45/32"
   ]
  },
  {
   "cell_type": "code",
   "execution_count": 12,
   "id": "2592ce2e-8651-405f-9f5f-137eaac04533",
   "metadata": {},
   "outputs": [
    {
     "data": {
      "text/plain": [
       "1.0"
      ]
     },
     "execution_count": 12,
     "metadata": {},
     "output_type": "execute_result"
    }
   ],
   "source": [
    "a1/a2"
   ]
  },
  {
   "cell_type": "code",
   "execution_count": 13,
   "id": "7e894b40-f4c0-4819-8763-8ff17d63da0f",
   "metadata": {},
   "outputs": [
    {
     "data": {
      "text/plain": [
       "1024"
      ]
     },
     "execution_count": 13,
     "metadata": {},
     "output_type": "execute_result"
    }
   ],
   "source": [
    "a1*a2"
   ]
  },
  {
   "cell_type": "code",
   "execution_count": 14,
   "id": "ad2dc245-7f93-4fe8-8c74-4095aa22ada6",
   "metadata": {},
   "outputs": [],
   "source": [
    "a1,a2 = 34,45"
   ]
  },
  {
   "cell_type": "code",
   "execution_count": 15,
   "id": "0d912881-752b-4f32-bf9a-3bfc6cc1e413",
   "metadata": {},
   "outputs": [],
   "source": [
    "s2 = \"data sci pro's\""
   ]
  },
  {
   "cell_type": "code",
   "execution_count": 16,
   "id": "aaad6856-f91d-4a74-8b19-eeb00292cf7c",
   "metadata": {},
   "outputs": [
    {
     "data": {
      "text/plain": [
       "\"data sci pro's\""
      ]
     },
     "execution_count": 16,
     "metadata": {},
     "output_type": "execute_result"
    }
   ],
   "source": [
    "s2"
   ]
  },
  {
   "cell_type": "code",
   "execution_count": 17,
   "id": "504aa37c-baec-4de0-8201-95cc0768cecb",
   "metadata": {},
   "outputs": [],
   "source": [
    "'''hell0 comment \n",
    "abcdefghjkl\n",
    "def'''\n",
    "a=10\n"
   ]
  },
  {
   "cell_type": "code",
   "execution_count": 18,
   "id": "b2a0e6e9-b69f-4459-9d6d-7027d7ec8734",
   "metadata": {},
   "outputs": [],
   "source": [
    "b = str(a)"
   ]
  },
  {
   "cell_type": "code",
   "execution_count": 19,
   "id": "d7e4483f-ec8c-40aa-831b-f22e5b715d0e",
   "metadata": {},
   "outputs": [
    {
     "data": {
      "text/plain": [
       "'10'"
      ]
     },
     "execution_count": 19,
     "metadata": {},
     "output_type": "execute_result"
    }
   ],
   "source": [
    "b"
   ]
  },
  {
   "cell_type": "code",
   "execution_count": 20,
   "id": "d12da9b2-8e9e-4b2e-b4d1-01b966277363",
   "metadata": {},
   "outputs": [
    {
     "data": {
      "text/plain": [
       "10"
      ]
     },
     "execution_count": 20,
     "metadata": {},
     "output_type": "execute_result"
    }
   ],
   "source": [
    "int(b)"
   ]
  },
  {
   "cell_type": "code",
   "execution_count": 21,
   "id": "362cd2f8-202f-4abd-a2a8-81f6cb5a841e",
   "metadata": {},
   "outputs": [],
   "source": [
    "a = 4532"
   ]
  },
  {
   "cell_type": "code",
   "execution_count": null,
   "id": "562b1e74-3c6b-4dd2-b9bb-4c6a1f12e5de",
   "metadata": {},
   "outputs": [
    {
     "name": "stdin",
     "output_type": "stream",
     "text": [
      " 354\n"
     ]
    }
   ],
   "source": [
    "b = input()"
   ]
  },
  {
   "cell_type": "code",
   "execution_count": 2,
   "id": "add56ea5-bd28-46f7-b5a7-1d5169082bcd",
   "metadata": {},
   "outputs": [],
   "source": [
    "s1 = 'pwskills'"
   ]
  },
  {
   "cell_type": "code",
   "execution_count": 3,
   "id": "67de1adb-7489-4fb0-9c6a-be2a7b5981b8",
   "metadata": {},
   "outputs": [
    {
     "data": {
      "text/plain": [
       "''"
      ]
     },
     "execution_count": 3,
     "metadata": {},
     "output_type": "execute_result"
    }
   ],
   "source": [
    "s1[7:3:1]"
   ]
  },
  {
   "cell_type": "code",
   "execution_count": 4,
   "id": "0b3d7502-039e-4659-a233-1ba9f0952459",
   "metadata": {},
   "outputs": [
    {
     "data": {
      "text/plain": [
       "''"
      ]
     },
     "execution_count": 4,
     "metadata": {},
     "output_type": "execute_result"
    }
   ],
   "source": [
    "s1[7:3]"
   ]
  },
  {
   "cell_type": "code",
   "execution_count": null,
   "id": "c02b332b-f849-4466-addd-d2fc283dea43",
   "metadata": {},
   "outputs": [],
   "source": []
  }
 ],
 "metadata": {
  "kernelspec": {
   "display_name": "Python 3 (ipykernel)",
   "language": "python",
   "name": "python3"
  },
  "language_info": {
   "codemirror_mode": {
    "name": "ipython",
    "version": 3
   },
   "file_extension": ".py",
   "mimetype": "text/x-python",
   "name": "python",
   "nbconvert_exporter": "python",
   "pygments_lexer": "ipython3",
   "version": "3.10.8"
  }
 },
 "nbformat": 4,
 "nbformat_minor": 5
}
