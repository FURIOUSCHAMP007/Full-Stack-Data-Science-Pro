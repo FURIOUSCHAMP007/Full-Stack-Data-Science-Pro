{
  "nbformat": 4,
  "nbformat_minor": 0,
  "metadata": {
    "colab": {
      "provenance": []
    },
    "kernelspec": {
      "name": "python3",
      "display_name": "Python 3"
    },
    "language_info": {
      "name": "python"
    }
  },
  "cells": [
    {
      "cell_type": "markdown",
      "source": [
        "1. What is a Python library? Why ^o we use Python libraries?\n"
      ],
      "metadata": {
        "id": "OQkRDHEQCtgj"
      }
    },
    {
      "cell_type": "code",
      "execution_count": null,
      "metadata": {
        "id": "RkiLg43XCClO"
      },
      "outputs": [],
      "source": [
        "#A Python library is a collection of modules or packages that contain pre-written code to perform specific tasks. We use Python libraries to save time and effort by leveraging existing functionalities rather than writing everything from scratch"
      ]
    },
    {
      "cell_type": "markdown",
      "source": [
        "2. What is the ^ifference between Numpy array an^ List?\n"
      ],
      "metadata": {
        "id": "AOwLHdIWDDwX"
      }
    },
    {
      "cell_type": "code",
      "source": [
        "#The main differences between a NumPy array and a list are:\n",
        "\n",
        "#NumPy arrays are homogeneous, meaning all elements must be of the same data type, while lists can contain elements of different data types.\n",
        "#NumPy arrays offer more efficient storage and operations for numerical data.\n",
        "#NumPy arrays support vectorized operations, making it easier to perform element-wise operations without explicit looping."
      ],
      "metadata": {
        "id": "tc04_8k1DDYD"
      },
      "execution_count": null,
      "outputs": []
    },
    {
      "cell_type": "code",
      "source": [
        "import numpy as np\n",
        "\n",
        "# 3. Find the shape, size and dimension of the given array\n",
        "arr = np.array([[1, 2, 3, 4], [5, 6, 7, 8], [9, 10, 11, 12]])\n",
        "\n",
        "print(\"Shape:\", arr.shape)\n",
        "print(\"Size:\", arr.size)\n",
        "print(\"Dimension:\", arr.ndim)"
      ],
      "metadata": {
        "colab": {
          "base_uri": "https://localhost:8080/"
        },
        "id": "0s3E8ZIDDRDr",
        "outputId": "a0805784-d73c-4cb2-e172-69438c49d4ac"
      },
      "execution_count": 1,
      "outputs": [
        {
          "output_type": "stream",
          "name": "stdout",
          "text": [
            "Shape: (3, 4)\n",
            "Size: 12\n",
            "Dimension: 2\n"
          ]
        }
      ]
    },
    {
      "cell_type": "code",
      "source": [
        "# 4. Write Python code to access the first row of the array\n",
        "first_row = arr[0, :]\n",
        "print(\"First Row:\", first_row)"
      ],
      "metadata": {
        "colab": {
          "base_uri": "https://localhost:8080/"
        },
        "id": "cqCtRjLPDe3d",
        "outputId": "72c9fe37-9ef7-4c9c-babe-3f4fde242d95"
      },
      "execution_count": 2,
      "outputs": [
        {
          "output_type": "stream",
          "name": "stdout",
          "text": [
            "First Row: [1 2 3 4]\n"
          ]
        }
      ]
    },
    {
      "cell_type": "code",
      "source": [
        "# 5. Access the element at the third row and fourth column\n",
        "element_3rd_row_4th_col = arr[2, 3]\n",
        "print(\"Element at 3rd row, 4th column:\", element_3rd_row_4th_col)"
      ],
      "metadata": {
        "colab": {
          "base_uri": "https://localhost:8080/"
        },
        "id": "74keACtDDe7S",
        "outputId": "f886f10d-daf5-409e-dad5-d593f996f900"
      },
      "execution_count": 4,
      "outputs": [
        {
          "output_type": "stream",
          "name": "stdout",
          "text": [
            "Element at 3rd row, 4th column: 12\n"
          ]
        }
      ]
    },
    {
      "cell_type": "code",
      "source": [
        "# 6. Code to extract all odd-indexed elements\n",
        "odd_indexed_elements = arr[:, 1::2]\n",
        "print(\"Odd-indexed elements:\", odd_indexed_elements)"
      ],
      "metadata": {
        "colab": {
          "base_uri": "https://localhost:8080/"
        },
        "id": "ryumfqFoDe_e",
        "outputId": "5d6d1896-64b2-43e4-ff38-956c15bff99b"
      },
      "execution_count": 5,
      "outputs": [
        {
          "output_type": "stream",
          "name": "stdout",
          "text": [
            "Odd-indexed elements: [[ 2  4]\n",
            " [ 6  8]\n",
            " [10 12]]\n"
          ]
        }
      ]
    },
    {
      "cell_type": "code",
      "source": [
        "# 7. Generate a random 3x3 matrix with values between 0 and 1\n",
        "random_matrix = np.random.rand(3, 3)\n",
        "print(\"Random 3x3 Matrix:\", random_matrix)"
      ],
      "metadata": {
        "colab": {
          "base_uri": "https://localhost:8080/"
        },
        "id": "d6r3vXu5DfDD",
        "outputId": "e920dcf7-fc6c-4c79-8764-c6e4b0c5c4c9"
      },
      "execution_count": 6,
      "outputs": [
        {
          "output_type": "stream",
          "name": "stdout",
          "text": [
            "Random 3x3 Matrix: [[0.61964421 0.09923251 0.10720634]\n",
            " [0.96839478 0.36551834 0.93953116]\n",
            " [0.73255652 0.4892666  0.08975614]]\n"
          ]
        }
      ]
    },
    {
      "cell_type": "markdown",
      "source": [
        "8. Describe the ^ifference between np.ran^om.ran^ an^ np.ran^om.ran^n?\n"
      ],
      "metadata": {
        "id": "kmXkxRXJD0NU"
      }
    },
    {
      "cell_type": "code",
      "source": [
        "#The difference between np.random.rand and np.random.randn is that the former generates random values from a uniform distribution between 0 and 1, while the latter generates values from a standard normal distribution (mean=0, standard deviation=1)."
      ],
      "metadata": {
        "id": "xBpksMYzDfGP"
      },
      "execution_count": null,
      "outputs": []
    },
    {
      "cell_type": "code",
      "source": [
        "# 9. Code to increase the dimension of the array\n",
        "increased_dimension = np.expand_dims(arr, axis=0)\n",
        "print(\"Increased Dimension:\", increased_dimension)"
      ],
      "metadata": {
        "colab": {
          "base_uri": "https://localhost:8080/"
        },
        "id": "N1APk9B3D87X",
        "outputId": "59015f8f-73c7-4002-a62a-fc4603367942"
      },
      "execution_count": 7,
      "outputs": [
        {
          "output_type": "stream",
          "name": "stdout",
          "text": [
            "Increased Dimension: [[[ 1  2  3  4]\n",
            "  [ 5  6  7  8]\n",
            "  [ 9 10 11 12]]]\n"
          ]
        }
      ]
    },
    {
      "cell_type": "code",
      "source": [
        "# 10. Transpose the array\n",
        "transposed_array = np.transpose(arr)\n",
        "print(\"Transposed Array:\\n\", transposed_array)\n"
      ],
      "metadata": {
        "colab": {
          "base_uri": "https://localhost:8080/"
        },
        "id": "dF-4qpYrEBGK",
        "outputId": "c0b9f073-2b68-4753-c7f2-d5b936ae249a"
      },
      "execution_count": 8,
      "outputs": [
        {
          "output_type": "stream",
          "name": "stdout",
          "text": [
            "Transposed Array:\n",
            " [[ 1  5  9]\n",
            " [ 2  6 10]\n",
            " [ 3  7 11]\n",
            " [ 4  8 12]]\n"
          ]
        }
      ]
    },
    {
      "cell_type": "code",
      "source": [
        "# 11. Matrix operations\n",
        "A = np.array([[1, 2, 3, 4], [5, 6, 7, 8], [9, 10, 11, 12]])\n",
        "B = np.array([[1, 2, 3, 4], [5, 6, 7, 8], [9, 10, 11, 12]])\n",
        "\n",
        "# Matrix addition\n",
        "addition_result = A + B\n",
        "\n",
        "# Matrix multiplication (element-wise)\n",
        "elementwise_multiply_result = A * B\n",
        "\n",
        "# Matrix multiplication (dot product)\n",
        "matrix_multiply_result = np.dot(A, B.T)\n",
        "\n",
        "# Matrix subtraction\n",
        "subtraction_result = B - A\n",
        "\n",
        "# Matrix division\n",
        "division_result = B / A\n",
        "\n",
        "print(\"Matrix Addition:\\n\", addition_result)\n",
        "print(\"Element-wise Multiplication:\\n\", elementwise_multiply_result)\n",
        "print(\"Matrix Multiplication (Dot Product):\\n\", matrix_multiply_result)\n",
        "print(\"Matrix Subtraction:\\n\", subtraction_result)\n",
        "print(\"Matrix Division:\\n\", division_result)\n"
      ],
      "metadata": {
        "colab": {
          "base_uri": "https://localhost:8080/"
        },
        "id": "2MfphZioEDuS",
        "outputId": "bb50bbef-f497-42bf-c838-a67ec9e55a6e"
      },
      "execution_count": 12,
      "outputs": [
        {
          "output_type": "stream",
          "name": "stdout",
          "text": [
            "Matrix Addition:\n",
            " [[ 2  4  6  8]\n",
            " [10 12 14 16]\n",
            " [18 20 22 24]]\n",
            "Element-wise Multiplication:\n",
            " [[  1   4   9  16]\n",
            " [ 25  36  49  64]\n",
            " [ 81 100 121 144]]\n",
            "Matrix Multiplication (Dot Product):\n",
            " [[ 30  70 110]\n",
            " [ 70 174 278]\n",
            " [110 278 446]]\n",
            "Matrix Subtraction:\n",
            " [[0 0 0 0]\n",
            " [0 0 0 0]\n",
            " [0 0 0 0]]\n",
            "Matrix Division:\n",
            " [[1. 1. 1. 1.]\n",
            " [1. 1. 1. 1.]\n",
            " [1. 1. 1. 1.]]\n"
          ]
        }
      ]
    },
    {
      "cell_type": "code",
      "source": [
        "# 12. Swap byte order of an array\n",
        "arr = np.array([1, 2, 3, 4], dtype=np.int32)\n",
        "swapped_arr = arr.byteswap()\n",
        "print(\"Swapped Byte Order Array:\", swapped_arr)\n"
      ],
      "metadata": {
        "id": "Z9qUruFaEOuI"
      },
      "execution_count": null,
      "outputs": []
    },
    {
      "cell_type": "code",
      "source": [
        "# 13. Significance of np.linalg.inv function\n",
        "# The np.linalg.inv function calculates the inverse of a matrix. It is significant in linear algebra for solving systems of linear equations.\n"
      ],
      "metadata": {
        "id": "JathVAnJESAL"
      },
      "execution_count": null,
      "outputs": []
    },
    {
      "cell_type": "code",
      "source": [
        "# 14. np.reshape function\n",
        "# np.reshape is used to change the shape of an array. It returns a new array with the specified shape."
      ],
      "metadata": {
        "id": "Tx3xq0dQETQ_"
      },
      "execution_count": null,
      "outputs": []
    },
    {
      "cell_type": "code",
      "source": [
        "# 15. Broadcasting in Numpy\n",
        "# Broadcasting is a feature in NumPy that allows operations between arrays of different shapes and sizes."
      ],
      "metadata": {
        "id": "q-8hiDZBEVwh"
      },
      "execution_count": null,
      "outputs": []
    }
  ]
}