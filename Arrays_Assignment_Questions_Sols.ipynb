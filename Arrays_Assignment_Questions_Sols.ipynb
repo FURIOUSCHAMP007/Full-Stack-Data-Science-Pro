{
  "nbformat": 4,
  "nbformat_minor": 0,
  "metadata": {
    "colab": {
      "provenance": []
    },
    "kernelspec": {
      "name": "python3",
      "display_name": "Python 3"
    },
    "language_info": {
      "name": "python"
    }
  },
  "cells": [
    {
      "cell_type": "markdown",
      "source": [
        "Arrays\n",
        "\n",
        "Assignment Questions"
      ],
      "metadata": {
        "id": "ZVHrRICTH_M-"
      }
    },
    {
      "cell_type": "markdown",
      "source": [
        "1. Check for Duplicates\n",
        "\n",
        "\n"
      ],
      "metadata": {
        "id": "31J8kA6CH_o-"
      }
    },
    {
      "cell_type": "code",
      "source": [
        "def contains_duplicates(arr):\n",
        "    return len(set(arr)) != len(arr)\n",
        "\n",
        "arr = [1, 2, 4, 2, 5, 9]\n",
        "output = contains_duplicates(arr)\n",
        "print(output)  # Output: True\n"
      ],
      "metadata": {
        "colab": {
          "base_uri": "https://localhost:8080/"
        },
        "id": "XswxfAc2IImJ",
        "outputId": "1c8671e4-1d5f-472f-c2cc-cfc8f4d68bf7"
      },
      "execution_count": 1,
      "outputs": [
        {
          "output_type": "stream",
          "name": "stdout",
          "text": [
            "True\n"
          ]
        }
      ]
    },
    {
      "cell_type": "markdown",
      "source": [
        "2. Rotate Array Right by k Steps\n"
      ],
      "metadata": {
        "id": "kOwBEWN3IOKo"
      }
    },
    {
      "cell_type": "code",
      "source": [
        "def rotate_array(arr, k):\n",
        "    k %= len(arr)\n",
        "    arr[:] = arr[-k:] + arr[:-k]\n",
        "\n",
        "arr = [1, 2, 3, 4, 5, 6, 7]\n",
        "k = 3\n",
        "rotate_array(arr, k)\n",
        "print(arr)  # Output: [5, 6, 7, 1, 2, 3, 4]\n"
      ],
      "metadata": {
        "colab": {
          "base_uri": "https://localhost:8080/"
        },
        "id": "zQ7wKAVkIPzr",
        "outputId": "89829a3c-1eab-4424-fbab-c364e116ad37"
      },
      "execution_count": 2,
      "outputs": [
        {
          "output_type": "stream",
          "name": "stdout",
          "text": [
            "[5, 6, 7, 1, 2, 3, 4]\n"
          ]
        }
      ]
    },
    {
      "cell_type": "markdown",
      "source": [
        "3. Reverse Array In-Place\n"
      ],
      "metadata": {
        "id": "QIfwkDBgISvS"
      }
    },
    {
      "cell_type": "code",
      "source": [
        "def reverse_array(arr):\n",
        "    left, right = 0, len(arr) - 1\n",
        "    while left < right:\n",
        "        arr[left], arr[right] = arr[right], arr[left]\n",
        "        left += 1\n",
        "        right -= 1\n",
        "\n",
        "arr = [2, 4, 5, 7, 9, 12]\n",
        "reverse_array(arr)\n",
        "print(arr)  # Output: [12, 9, 7, 5, 4, 2]\n"
      ],
      "metadata": {
        "colab": {
          "base_uri": "https://localhost:8080/"
        },
        "id": "U9hfBs6nITMU",
        "outputId": "7ea38349-5b0c-47c4-c71c-cfb51d27c94e"
      },
      "execution_count": 3,
      "outputs": [
        {
          "output_type": "stream",
          "name": "stdout",
          "text": [
            "[12, 9, 7, 5, 4, 2]\n"
          ]
        }
      ]
    },
    {
      "cell_type": "markdown",
      "source": [
        "4. Find Maximum Element in Array\n"
      ],
      "metadata": {
        "id": "B1Jo1B-bIWvx"
      }
    },
    {
      "cell_type": "code",
      "source": [
        "def find_max(arr):\n",
        "    return max(arr)\n",
        "\n",
        "arr = [10, 5, 20, 8, 15]\n",
        "output = find_max(arr)\n",
        "print(output)  # Output: 20\n"
      ],
      "metadata": {
        "colab": {
          "base_uri": "https://localhost:8080/"
        },
        "id": "98Ny6Y3NIZKq",
        "outputId": "243f1bcb-b5c8-4135-d46c-1272a65290a0"
      },
      "execution_count": 5,
      "outputs": [
        {
          "output_type": "stream",
          "name": "stdout",
          "text": [
            "20\n"
          ]
        }
      ]
    },
    {
      "cell_type": "markdown",
      "source": [
        "5. Remove Duplicates from Sorted Array In-Place\n"
      ],
      "metadata": {
        "id": "4G7ihfGHIac8"
      }
    },
    {
      "cell_type": "code",
      "source": [
        "def remove_duplicates(arr):\n",
        "    if not arr:\n",
        "        return 0\n",
        "    idx = 0\n",
        "    for i in range(1, len(arr)):\n",
        "        if arr[i] != arr[idx]:\n",
        "            idx += 1\n",
        "            arr[idx] = arr[i]\n",
        "    return idx + 1\n",
        "\n",
        "arr = [1, 1, 2, 2, 2, 3, 3, 4, 4, 4, 5, 5]\n",
        "length = remove_duplicates(arr)\n",
        "print(arr[:length])  # Output: [1, 2, 3, 4, 5]\n"
      ],
      "metadata": {
        "id": "JEuBCYSFIb98",
        "outputId": "1afb1cc1-73e3-49be-bfac-67b71d5f55bf",
        "colab": {
          "base_uri": "https://localhost:8080/"
        }
      },
      "execution_count": 4,
      "outputs": [
        {
          "output_type": "stream",
          "name": "stdout",
          "text": [
            "[1, 2, 3, 4, 5]\n"
          ]
        }
      ]
    }
  ]
}